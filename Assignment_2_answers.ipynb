{
 "cells": [
  {
   "cell_type": "code",
   "execution_count": null,
   "id": "97be71d9",
   "metadata": {},
   "outputs": [],
   "source": [
    "Answer1:\n",
    "    True and False; True has a value of 1 and False has a value 0"
   ]
  },
  {
   "cell_type": "code",
   "execution_count": null,
   "id": "dcd4553f",
   "metadata": {},
   "outputs": [],
   "source": [
    "Answer2:\n",
    "    AND, OR & NOT"
   ]
  },
  {
   "cell_type": "code",
   "execution_count": null,
   "id": "1c14c28a",
   "metadata": {},
   "outputs": [],
   "source": [
    "Answer3:\n",
    "    True AND True -> True\n",
    "    True AND False -> False\n",
    "    False AND True -> False\n",
    "    False AND False -> False\n",
    "    \n",
    "    True OR True -> True\n",
    "    True OR False -> True\n",
    "    False OR True -> True\n",
    "    False OR False -> False\n",
    "    \n",
    "    true NOT -> False\n",
    "    False NOT -> True"
   ]
  },
  {
   "cell_type": "code",
   "execution_count": null,
   "id": "9e771b85",
   "metadata": {},
   "outputs": [],
   "source": [
    "Answer4:\n",
    "    False\n",
    "    False\n",
    "    True\n",
    "    False\n",
    "    False\n",
    "    True\n"
   ]
  },
  {
   "cell_type": "code",
   "execution_count": null,
   "id": "3ff13478",
   "metadata": {},
   "outputs": [],
   "source": [
    "Answer5:\n",
    "    less then < \n",
    "    greater then >\n",
    "    equal to ==\n",
    "    Not equal !=\n",
    "    Greater or equal to >=\n",
    "    less or equal to <=\n",
    "    "
   ]
  },
  {
   "cell_type": "code",
   "execution_count": null,
   "id": "ffb4c624",
   "metadata": {},
   "outputs": [],
   "source": [
    "Answer6:\n",
    "    assignment operator has just one '=' whereas comparison has two'=='\n",
    "    you use == when you want to compare if two variables or values are equal or not.for e.g. a==b, will return True or False.\n",
    "    assignment operator is used when you assign a value to a variable, for e.g. a=10"
   ]
  },
  {
   "cell_type": "code",
   "execution_count": null,
   "id": "32d393e6",
   "metadata": {},
   "outputs": [],
   "source": [
    "Answer7:\n",
    "spam = 0\n",
    "if spam == 10:\n",
    "    print(\"eggs\")\n",
    "if spam > 5:\n",
    "    print(\"bacon\")\n",
    "else:\n",
    "    print(\"ham\")\n",
    "    print(\"spam\")\n",
    "    print(\"spam\")"
   ]
  },
  {
   "cell_type": "code",
   "execution_count": null,
   "id": "4afe509f",
   "metadata": {},
   "outputs": [],
   "source": [
    "Answer8:\n",
    "spam = int(input())\n",
    "if spam == 1:\n",
    "    print(\"Hello\")\n",
    "elif spam == 2:\n",
    "    print(\"Howdy\")\n",
    "else:\n",
    "    print(\"Greetings\")"
   ]
  },
  {
   "cell_type": "code",
   "execution_count": null,
   "id": "96d13d3b",
   "metadata": {},
   "outputs": [],
   "source": [
    "Answer9:\n",
    "    Interrupt"
   ]
  },
  {
   "cell_type": "code",
   "execution_count": null,
   "id": "efb151ae",
   "metadata": {},
   "outputs": [],
   "source": [
    "Answer10:\n",
    "    break gets the control out of the loop and takes you to the next line of code just after the loop ends.\n",
    "    whereas continue points back the control to the start of loop"
   ]
  },
  {
   "cell_type": "code",
   "execution_count": null,
   "id": "8d2f604b",
   "metadata": {},
   "outputs": [],
   "source": [
    "Answer11:\n",
    "    No difference"
   ]
  },
  {
   "cell_type": "code",
   "execution_count": null,
   "id": "252fc0aa",
   "metadata": {},
   "outputs": [],
   "source": [
    "Answer12:\n",
    "for loop:\n",
    "-----------\n",
    "for i in range(11):\n",
    "    print(i+1)\n",
    "-----------\n",
    "while loop\n",
    "-----------\n",
    "k=1\n",
    "while k < 11:\n",
    "    print(k)\n",
    "    k=k+1\n"
   ]
  },
  {
   "cell_type": "code",
   "execution_count": null,
   "id": "0a542cc0",
   "metadata": {},
   "outputs": [],
   "source": [
    "Answer13:\n",
    "    import spam\n",
    "    bacon()"
   ]
  }
 ],
 "metadata": {
  "kernelspec": {
   "display_name": "Python 3 (ipykernel)",
   "language": "python",
   "name": "python3"
  },
  "language_info": {
   "codemirror_mode": {
    "name": "ipython",
    "version": 3
   },
   "file_extension": ".py",
   "mimetype": "text/x-python",
   "name": "python",
   "nbconvert_exporter": "python",
   "pygments_lexer": "ipython3",
   "version": "3.9.7"
  }
 },
 "nbformat": 4,
 "nbformat_minor": 5
}
