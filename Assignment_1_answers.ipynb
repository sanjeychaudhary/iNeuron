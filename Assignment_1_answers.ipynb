{
 "cells": [
  {
   "cell_type": "code",
   "execution_count": null,
   "id": "2fe464fc",
   "metadata": {},
   "outputs": [],
   "source": [
    "Answer1:\n",
    "    * is an expressions\n",
    "    'hello' is a value\n",
    "    -87.8 is a value\n",
    "    - is a expression\n",
    "    / is a expression\n",
    "    + is a expression\n",
    "    6 is a value"
   ]
  },
  {
   "cell_type": "code",
   "execution_count": null,
   "id": "7bb9195d",
   "metadata": {},
   "outputs": [],
   "source": [
    "Answer 2:\n",
    "    string is a collection of alphabetical characters with some symbols included like space and underscore. Whereas variable can\n",
    "    be any value possible as a dataset, for example an integer, string, float,etc."
   ]
  },
  {
   "cell_type": "code",
   "execution_count": 3,
   "id": "0634cc2f",
   "metadata": {},
   "outputs": [
    {
     "ename": "SyntaxError",
     "evalue": "invalid syntax (Temp/ipykernel_11748/3165083307.py, line 1)",
     "output_type": "error",
     "traceback": [
      "\u001b[1;36m  File \u001b[1;32m\"C:\\Users\\SANJEY~1.CHA\\AppData\\Local\\Temp/ipykernel_11748/3165083307.py\"\u001b[1;36m, line \u001b[1;32m1\u001b[0m\n\u001b[1;33m    Answer 3:\u001b[0m\n\u001b[1;37m           ^\u001b[0m\n\u001b[1;31mSyntaxError\u001b[0m\u001b[1;31m:\u001b[0m invalid syntax\n"
     ]
    }
   ],
   "source": [
    "Answer 3:\n",
    "    String: It is a collection of alphabetical characters with some symbols included like space and underscore. It is immutable.\n",
    "    List: It is a collection of data in a order which can contain a collection of different data types, like integers, floats, \n",
    "        complex numbers, etc. It is mutable.\n",
    "    Tuple: It is similar to list except the representation of tuple dataset is enclosed in round brackets instead of square brackets\n",
    "        as is the case with list. Another feature of tuple is that it is immutable."
   ]
  },
  {
   "cell_type": "code",
   "execution_count": null,
   "id": "c293adbc",
   "metadata": {},
   "outputs": [],
   "source": [
    "Answer4:\n",
    "    Expressions is made up of mathematical values(int,float,complex) along with mathematical operators to perform the required\n",
    "    operations on them.\n",
    "    They perform operations as per the user's requirement."
   ]
  },
  {
   "cell_type": "code",
   "execution_count": null,
   "id": "f55b015a",
   "metadata": {},
   "outputs": [],
   "source": [
    "Answer5:\n",
    "    Statement just assigns a value to a variable created to store value inside it. Expression performs a mathematical operation\n",
    "    to arrive at the final answer."
   ]
  },
  {
   "cell_type": "code",
   "execution_count": null,
   "id": "5ae682f6",
   "metadata": {},
   "outputs": [],
   "source": [
    "Answer6:\n",
    "    bacon=22"
   ]
  },
  {
   "cell_type": "code",
   "execution_count": null,
   "id": "8128194b",
   "metadata": {},
   "outputs": [],
   "source": [
    "Answer7:\n",
    "    both will have same value which is \"spamspamspam\""
   ]
  },
  {
   "cell_type": "code",
   "execution_count": null,
   "id": "c244aa1f",
   "metadata": {},
   "outputs": [],
   "source": [
    "Answer8:\n",
    "    Eggs is a valid variable since it's a combination of letters which otherwise doesn't hold any meaning to machine.\n",
    "    Whereas a count 100 signifies a mathematical value and can only be assigned to a variable."
   ]
  },
  {
   "cell_type": "code",
   "execution_count": null,
   "id": "c84ca05f",
   "metadata": {},
   "outputs": [],
   "source": [
    "Answer9:\n",
    "    int(value)\n",
    "    float(value)\n",
    "    str(value)"
   ]
  },
  {
   "cell_type": "code",
   "execution_count": null,
   "id": "6439544c",
   "metadata": {},
   "outputs": [],
   "source": [
    "Answer10:\n",
    "    Not sure what exactly you want us to acheive with this expression.\n",
    "    But I think if you want to display \"I have eaten +99+ burritos\" then just enclose +99+ within the qoutes instead of \n",
    "    excluding it"
   ]
  },
  {
   "cell_type": "code",
   "execution_count": null,
   "id": "0a13517e",
   "metadata": {},
   "outputs": [],
   "source": []
  },
  {
   "cell_type": "code",
   "execution_count": null,
   "id": "a1212dcb",
   "metadata": {},
   "outputs": [],
   "source": []
  },
  {
   "cell_type": "code",
   "execution_count": null,
   "id": "baafe254",
   "metadata": {},
   "outputs": [],
   "source": []
  },
  {
   "cell_type": "code",
   "execution_count": null,
   "id": "c3624fad",
   "metadata": {},
   "outputs": [],
   "source": []
  },
  {
   "cell_type": "code",
   "execution_count": null,
   "id": "4f0b38bb",
   "metadata": {},
   "outputs": [],
   "source": []
  },
  {
   "cell_type": "code",
   "execution_count": null,
   "id": "5587919a",
   "metadata": {},
   "outputs": [],
   "source": []
  },
  {
   "cell_type": "code",
   "execution_count": null,
   "id": "5b62d08e",
   "metadata": {},
   "outputs": [],
   "source": []
  },
  {
   "cell_type": "code",
   "execution_count": null,
   "id": "6e6de0b9",
   "metadata": {},
   "outputs": [],
   "source": []
  }
 ],
 "metadata": {
  "kernelspec": {
   "display_name": "Python 3 (ipykernel)",
   "language": "python",
   "name": "python3"
  },
  "language_info": {
   "codemirror_mode": {
    "name": "ipython",
    "version": 3
   },
   "file_extension": ".py",
   "mimetype": "text/x-python",
   "name": "python",
   "nbconvert_exporter": "python",
   "pygments_lexer": "ipython3",
   "version": "3.9.7"
  }
 },
 "nbformat": 4,
 "nbformat_minor": 5
}
