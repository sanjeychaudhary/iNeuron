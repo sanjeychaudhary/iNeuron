{
 "cells": [
  {
   "cell_type": "code",
   "execution_count": 15,
   "id": "5f9cdd1c",
   "metadata": {},
   "outputs": [],
   "source": [
    "#I am using the HCF function to determine the LCM of the two numbers:\n",
    "def LCM():\n",
    "    a=int(input(\"enter 1st number\"))\n",
    "    b=int(input(\"enter 2nd number\"))\n",
    "    hcf=HCF(a,b)\n",
    "    lcm=(a*b)/hcf\n",
    "    return lcm\n",
    "    "
   ]
  },
  {
   "cell_type": "code",
   "execution_count": 16,
   "id": "134f8a10",
   "metadata": {},
   "outputs": [],
   "source": [
    "def HCF(a,b):\n",
    "    if a<b:\n",
    "        smaller=a\n",
    "    else:\n",
    "        smaller=b\n",
    "    for i in range(1,smaller+1):\n",
    "        if((a%i==0) and (b%i==0)):\n",
    "            hcf=i\n",
    "    return hcf\n",
    "        "
   ]
  },
  {
   "cell_type": "code",
   "execution_count": 36,
   "id": "aaba016e",
   "metadata": {},
   "outputs": [],
   "source": [
    "def decimalconversion():\n",
    "    a=int(input(\"enter the number\"))\n",
    "    rem=\"\"\n",
    "    temp=a\n",
    "    choice=int(input(\"enter the conversion choice\\n1.Binary\\n2.Octa\\n3.Hexa\"))\n",
    "    if choice==1:\n",
    "        while temp>0:\n",
    "            rem=str(temp%2)+rem\n",
    "            temp=temp//2\n",
    "        print(rem)\n",
    "    elif choice==2:\n",
    "        while temp>0:\n",
    "            rem=str(temp%8)+rem\n",
    "            temp=temp//8\n",
    "        print(rem)\n",
    "    elif choice==3:\n",
    "        while temp>0:\n",
    "            temp_rem=temp%16\n",
    "            if temp_rem<10:\n",
    "                rem=rem+str(temp_rem)\n",
    "            elif temp_rem==10:\n",
    "                temp_rem=\"A\"\n",
    "                rem=rem+temp_rem\n",
    "            elif temp_rem==11:\n",
    "                temp_rem=\"B\"\n",
    "                rem=rem+temp_rem\n",
    "            elif temp_rem==12:\n",
    "                temp_rem=\"C\"\n",
    "                rem=rem+temp_rem\n",
    "            elif temp_rem==13:\n",
    "                temp_rem=\"D\"\n",
    "                rem=rem+temp_rem\n",
    "            elif temp_rem==14:\n",
    "                temp_rem=\"E\"\n",
    "                rem=rem+temp_rem\n",
    "            elif temp_rem==15:\n",
    "                temp_rem=\"F\"\n",
    "                rem=rem+temp_rem\n",
    "            temp=temp//16\n",
    "        print(rem[::-1])       "
   ]
  },
  {
   "cell_type": "code",
   "execution_count": 2,
   "id": "a0a8db46",
   "metadata": {},
   "outputs": [],
   "source": [
    "def ASCII():\n",
    "    input1=input(\"enter the character\")\n",
    "    print(\"ASCII of\",input1,\"is\",ord(input1))\n"
   ]
  },
  {
   "cell_type": "code",
   "execution_count": 3,
   "id": "812867c2",
   "metadata": {},
   "outputs": [],
   "source": [
    "def Calculator():\n",
    "\n",
    "    def add(x, y):\n",
    "        return x + y\n",
    "\n",
    "    def subtract(x, y):\n",
    "        return x - y\n",
    "\n",
    "    def multiply(x, y):\n",
    "        return x * y\n",
    "\n",
    "    def divide(x, y):\n",
    "        return x / y\n",
    "\n",
    "    print(\"Select operation.\")\n",
    "    print(\"1.Add\")\n",
    "    print(\"2.Subtract\")\n",
    "    print(\"3.Multiply\")\n",
    "    print(\"4.Divide\")\n",
    "\n",
    "    while True:\n",
    "        choice = input(\"Enter choice(1/2/3/4): \")\n",
    "        if choice in ('1', '2', '3', '4'):\n",
    "            num1 = float(input(\"Enter first number: \"))\n",
    "            num2 = float(input(\"Enter second number: \"))\n",
    "\n",
    "            if choice == '1':\n",
    "                print(num1, \"+\", num2, \"=\", add(num1, num2))\n",
    "\n",
    "            elif choice == '2':\n",
    "                print(num1, \"-\", num2, \"=\", subtract(num1, num2))\n",
    "\n",
    "            elif choice == '3':\n",
    "                print(num1, \"*\", num2, \"=\", multiply(num1, num2))\n",
    "\n",
    "            elif choice == '4':\n",
    "                print(num1, \"/\", num2, \"=\", divide(num1, num2))\n",
    "\n",
    "            next_calculation = input(\"Let's do next calculation? (yes/no): \")\n",
    "            if next_calculation == \"no\":\n",
    "              break\n",
    "\n",
    "        else:\n",
    "            Calculator()"
   ]
  },
  {
   "cell_type": "raw",
   "id": "545f049d",
   "metadata": {},
   "source": []
  },
  {
   "cell_type": "code",
   "execution_count": null,
   "id": "3cfc17ff",
   "metadata": {},
   "outputs": [],
   "source": []
  },
  {
   "cell_type": "code",
   "execution_count": null,
   "id": "f8bf9bb6",
   "metadata": {},
   "outputs": [],
   "source": []
  },
  {
   "cell_type": "code",
   "execution_count": null,
   "id": "83550dfd",
   "metadata": {},
   "outputs": [],
   "source": []
  }
 ],
 "metadata": {
  "kernelspec": {
   "display_name": "Python 3 (ipykernel)",
   "language": "python",
   "name": "python3"
  },
  "language_info": {
   "codemirror_mode": {
    "name": "ipython",
    "version": 3
   },
   "file_extension": ".py",
   "mimetype": "text/x-python",
   "name": "python",
   "nbconvert_exporter": "python",
   "pygments_lexer": "ipython3",
   "version": "3.9.7"
  }
 },
 "nbformat": 4,
 "nbformat_minor": 5
}
