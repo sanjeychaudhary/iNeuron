{
 "cells": [
  {
   "cell_type": "code",
   "execution_count": null,
   "id": "30dc248d",
   "metadata": {},
   "outputs": [],
   "source": [
    "def fibonacci_recursion(n):\n",
    "   if n <= 1:\n",
    "       return n\n",
    "   else:\n",
    "       return(fibonacci_recursion(n-1) + fibonacci_recursion(n-2))\n",
    "\n",
    "value=int(input(\"enter the number of fibonacci sequence to print\"))\n",
    "\n",
    "if value <= 0:\n",
    "   print(\"Plese enter a positive integer\")\n",
    "else:\n",
    "   print(\"Fibonacci sequence:\")\n",
    "   for i in range(value):\n",
    "       print(fibonacci_recursion(i))"
   ]
  },
  {
   "cell_type": "code",
   "execution_count": null,
   "id": "9b6f0ef7",
   "metadata": {},
   "outputs": [],
   "source": [
    "def factorial_recursion(n):\n",
    "   if n == 1:\n",
    "       return n\n",
    "   else:\n",
    "       return n*factorial_recursion(n-1)\n",
    "\n",
    "num = int(input(\"enter the number for which you want factorial\"))\n",
    "\n",
    "if num < 0:\n",
    "   print(\"Sorry, factorial does not exist for negative numbers\")\n",
    "elif num == 0:\n",
    "   print(\"The factorial of 0 is 1\")\n",
    "else:\n",
    "   print(\"The factorial of\", num, \"is\", recur_factorial(num))"
   ]
  },
  {
   "cell_type": "code",
   "execution_count": 16,
   "id": "85968a86",
   "metadata": {},
   "outputs": [],
   "source": [
    "def BMI():\n",
    "    weight=float(input(\"enter your weight in Kilograms\"))\n",
    "    height=float(input(\"enter your height in Meters\"))\n",
    "    BMI=weight/(height**2)\n",
    "    return BMI"
   ]
  },
  {
   "cell_type": "code",
   "execution_count": 21,
   "id": "ccad7c1f",
   "metadata": {},
   "outputs": [],
   "source": [
    "def log():\n",
    "    import numpy\n",
    "    value=float(input(\"enter the value for finding the natural log\"))\n",
    "    print(numpy.log(value))"
   ]
  },
  {
   "cell_type": "code",
   "execution_count": 29,
   "id": "0039e979",
   "metadata": {},
   "outputs": [],
   "source": [
    "def cubesum():\n",
    "    value=int(input(\"enter the value till which you want cube sum\"))\n",
    "    sum=0\n",
    "    for i in range(1,value+1):\n",
    "        sum=sum+(i**3)\n",
    "    print(\"cube sum=\",sum)"
   ]
  },
  {
   "cell_type": "code",
   "execution_count": null,
   "id": "b0e6c60d",
   "metadata": {},
   "outputs": [],
   "source": []
  },
  {
   "cell_type": "code",
   "execution_count": null,
   "id": "e516038d",
   "metadata": {},
   "outputs": [],
   "source": []
  }
 ],
 "metadata": {
  "kernelspec": {
   "display_name": "Python 3 (ipykernel)",
   "language": "python",
   "name": "python3"
  },
  "language_info": {
   "codemirror_mode": {
    "name": "ipython",
    "version": 3
   },
   "file_extension": ".py",
   "mimetype": "text/x-python",
   "name": "python",
   "nbconvert_exporter": "python",
   "pygments_lexer": "ipython3",
   "version": "3.9.7"
  }
 },
 "nbformat": 4,
 "nbformat_minor": 5
}
