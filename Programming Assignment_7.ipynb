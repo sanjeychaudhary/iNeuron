{
 "cells": [
  {
   "cell_type": "code",
   "execution_count": null,
   "id": "050bd04f",
   "metadata": {},
   "outputs": [],
   "source": [
    "def array_sum():\n",
    "    n=int(input(\"enter the array length\"))\n",
    "    arr=[]\n",
    "    sum1=0\n",
    "    for i in range(n):\n",
    "        print(\"enter the element at\",i,\"position\")\n",
    "        value=int(input())\n",
    "        arr.append(value)\n",
    "        sum1=sum1+value\n",
    "    for i in range(n):\n",
    "        print(arr[i])\n",
    "    print(\"sum of array is\",sum1)"
   ]
  },
  {
   "cell_type": "code",
   "execution_count": null,
   "id": "72d50c4d",
   "metadata": {},
   "outputs": [],
   "source": [
    "def array_largest():\n",
    "    n=int(input(\"enter the array length\"))\n",
    "    arr=[]\n",
    "    largest=0\n",
    "    for i in range(n):\n",
    "        print(\"enter the element at\",i,\"position\")\n",
    "        value=int(input())\n",
    "        arr.append(value)\n",
    "        if value>largest:\n",
    "            largest=value\n",
    "    for i in arr:\n",
    "        print(i)\n",
    "    print(\"largest number in array is\",largest)"
   ]
  },
  {
   "cell_type": "code",
   "execution_count": null,
   "id": "250b504b",
   "metadata": {},
   "outputs": [],
   "source": [
    "def array_rotation():\n",
    "    n=int(input(\"enter the array length\"))\n",
    "    arr1=[]\n",
    "    arr2=[]\n",
    "    for i in range(n):\n",
    "        print(\"enter the element at\",i,\"position\")\n",
    "        value=int(input())\n",
    "        arr1.append(value)\n",
    "        arr2.append(value)\n",
    "    shift=int(input(\"enter the number by which you want to rotate the array elements\"))\n",
    "    if shift>n:\n",
    "        print(\"shift number is higher then number of elements, Try again\")\n",
    "    else:\n",
    "        for i in range(n):\n",
    "            if (shift+i)<=(n-1):\n",
    "                arr2[shift+i]=arr1[i]\n",
    "            else:\n",
    "                shift=-i\n",
    "                arr2[shift+i]=arr1[i]\n",
    "    for i in arr2:\n",
    "        print(i)"
   ]
  },
  {
   "cell_type": "code",
   "execution_count": null,
   "id": "aad97062",
   "metadata": {},
   "outputs": [],
   "source": [
    "def array_split():\n",
    "    n=int(input(\"enter the array length\"))\n",
    "    arr1=[]\n",
    "    arr2=[]\n",
    "    for i in range(n):\n",
    "        print(\"enter the element at\",i,\"position\")\n",
    "        value=int(input())\n",
    "        arr1.append(value)\n",
    "    arr2=arr1[::-1]\n",
    "    if n%2==0:\n",
    "        half=int(n/2)\n",
    "    else:\n",
    "        half=int((n/2)+1)\n",
    "    for i in range(half-1):\n",
    "        arr2[half+i]=arr1[i]\n",
    "\n",
    "    return arr2"
   ]
  },
  {
   "cell_type": "code",
   "execution_count": null,
   "id": "c34ce1ca",
   "metadata": {},
   "outputs": [],
   "source": [
    "def array_monotonic_check():\n",
    "    n=int(input(\"enter the array length\"))\n",
    "    arr1=[]\n",
    "    for i in range(n):\n",
    "        print(\"enter the element at\",i,\"position\")\n",
    "        value=int(input())\n",
    "        arr1.append(value)\n",
    "    for i in range(n-1):\n",
    "        if arr1[i]>arr1[i+1]:\n",
    "            flag=1\n",
    "        else:\n",
    "            flag=0\n",
    "            break\n",
    "    if flag==1:\n",
    "        print(\"Array is monotonic\")\n",
    "    if flag==0:\n",
    "        for i in range(n-1):\n",
    "            if arr1[i]<arr1[i+1]:\n",
    "                flag=1\n",
    "            else:\n",
    "                flag=0\n",
    "                break\n",
    "        if flag==1:\n",
    "            print(\"Array is monotonic\")\n",
    "    if flag==0:\n",
    "        print(\"Array is non-monotonic\")"
   ]
  }
 ],
 "metadata": {
  "kernelspec": {
   "display_name": "Python 3 (ipykernel)",
   "language": "python",
   "name": "python3"
  },
  "language_info": {
   "codemirror_mode": {
    "name": "ipython",
    "version": 3
   },
   "file_extension": ".py",
   "mimetype": "text/x-python",
   "name": "python",
   "nbconvert_exporter": "python",
   "pygments_lexer": "ipython3",
   "version": "3.9.7"
  }
 },
 "nbformat": 4,
 "nbformat_minor": 5
}
