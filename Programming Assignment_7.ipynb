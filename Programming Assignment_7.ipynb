{
 "cells": [
  {
   "cell_type": "code",
   "execution_count": 19,
   "id": "7d0d097c",
   "metadata": {},
   "outputs": [],
   "source": [
    "def array_sum():\n",
    "    n=int(input(\"enter the array length\"))\n",
    "    arr=[]\n",
    "    sum1=0\n",
    "    for i in range(n):\n",
    "        print(\"enter the element at\",i,\"position\")\n",
    "        value=int(input())\n",
    "        arr.append(value)\n",
    "        sum1=sum1+value\n",
    "    for i in range(n):\n",
    "        print(arr[i])\n",
    "    print(\"sum of array is\",sum1)"
   ]
  },
  {
   "cell_type": "code",
   "execution_count": 26,
   "id": "5ad52de0",
   "metadata": {},
   "outputs": [],
   "source": [
    "def array_largest():\n",
    "    n=int(input(\"enter the array length\"))\n",
    "    arr=[]\n",
    "    largest=0\n",
    "    for i in range(n):\n",
    "        print(\"enter the element at\",i,\"position\")\n",
    "        value=int(input())\n",
    "        arr.append(value)\n",
    "        if value>largest:\n",
    "            largest=value\n",
    "    for i in arr:\n",
    "        print(i)\n",
    "    print(\"largest number in array is\",largest)"
   ]
  },
  {
   "cell_type": "code",
   "execution_count": 45,
   "id": "cd9b9f44",
   "metadata": {},
   "outputs": [],
   "source": [
    "def array_rotation():\n",
    "    n=int(input(\"enter the array length\"))\n",
    "    arr1=[]\n",
    "    arr2=[]\n",
    "    for i in range(n):\n",
    "        print(\"enter the element at\",i,\"position\")\n",
    "        value=int(input())\n",
    "        arr1.append(value)\n",
    "        arr2.append(value)\n",
    "    shift=int(input(\"enter the number by which you want to rotate the array elements\"))\n",
    "    if shift>n:\n",
    "        print(\"shift number is higher then number of elements, Try again\")\n",
    "    else:\n",
    "        for i in range(n):\n",
    "            if (shift+i)<=(n-1):\n",
    "                arr2[shift+i]=arr1[i]\n",
    "            else:\n",
    "                shift=-i\n",
    "                arr2[shift+i]=arr1[i]\n",
    "    for i in arr2:\n",
    "        print(i)"
   ]
  },
  {
   "cell_type": "code",
   "execution_count": 81,
   "id": "c6a4b088",
   "metadata": {},
   "outputs": [],
   "source": [
    "def array_split():\n",
    "    n=int(input(\"enter the array length\"))\n",
    "    arr1=[]\n",
    "    arr2=[]\n",
    "    for i in range(n):\n",
    "        print(\"enter the element at\",i,\"position\")\n",
    "        value=int(input())\n",
    "        arr1.append(value)\n",
    "    arr2=arr1[::-1]\n",
    "    if n%2==0:\n",
    "        half=int(n/2)\n",
    "    else:\n",
    "        half=int(n/2)\n",
    "    for i in range(half):\n",
    "        arr2[half+i]=arr1[i]\n",
    "\n",
    "    return arr2\n",
    "\n",
    "    "
   ]
  },
  {
   "cell_type": "code",
   "execution_count": 82,
   "id": "2acd84ae",
   "metadata": {},
   "outputs": [
    {
     "name": "stdout",
     "output_type": "stream",
     "text": [
      "enter the array length5\n",
      "enter the element at 0 position\n",
      "1\n",
      "enter the element at 1 position\n",
      "2\n",
      "enter the element at 2 position\n",
      "3\n",
      "enter the element at 3 position\n",
      "4\n",
      "enter the element at 4 position\n",
      "5\n"
     ]
    },
    {
     "data": {
      "text/plain": [
       "[5, 4, 1, 2, 1]"
      ]
     },
     "execution_count": 82,
     "metadata": {},
     "output_type": "execute_result"
    }
   ],
   "source": [
    "array_split()"
   ]
  },
  {
   "cell_type": "code",
   "execution_count": null,
   "id": "c89261f4",
   "metadata": {},
   "outputs": [],
   "source": []
  }
 ],
 "metadata": {
  "kernelspec": {
   "display_name": "Python 3 (ipykernel)",
   "language": "python",
   "name": "python3"
  },
  "language_info": {
   "codemirror_mode": {
    "name": "ipython",
    "version": 3
   },
   "file_extension": ".py",
   "mimetype": "text/x-python",
   "name": "python",
   "nbconvert_exporter": "python",
   "pygments_lexer": "ipython3",
   "version": "3.9.7"
  }
 },
 "nbformat": 4,
 "nbformat_minor": 5
}
