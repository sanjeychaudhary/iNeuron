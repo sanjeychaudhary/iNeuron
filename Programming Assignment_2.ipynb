{
 "cells": [
  {
   "cell_type": "code",
   "execution_count": 15,
   "id": "bf9d8e1d",
   "metadata": {},
   "outputs": [],
   "source": [
    "def kmtomiles():\n",
    "    a=float(input(\"enter value in kilometers\"))\n",
    "    print(\"Equivalent value in miles\",a*0.62)"
   ]
  },
  {
   "cell_type": "code",
   "execution_count": 33,
   "id": "ef9b0559",
   "metadata": {},
   "outputs": [],
   "source": [
    "def DegreetoFh():\n",
    "    cl=float(input(\"enter the value in Celsius\"))\n",
    "    fh=(cl*1.8)+32\n",
    "    print(\"%0.2f celsius is equal to %0.2f Fahrenheit\"%(cl,fh))"
   ]
  },
  {
   "cell_type": "code",
   "execution_count": 42,
   "id": "b16b338e",
   "metadata": {},
   "outputs": [],
   "source": [
    "def calendardisplay():\n",
    "    import calendar\n",
    "    try:\n",
    "        yyyy=int(input(\"enter the year\"))\n",
    "        mm=int(input(\"enter the month in number\"))\n",
    "        print(calendar.month(yyyy,mm))\n",
    "    except:\n",
    "        print(\"You have not entered year or month as integers\\n\",\"Enter the values again\")\n",
    "        calendardisplay()\n"
   ]
  },
  {
   "cell_type": "code",
   "execution_count": 64,
   "id": "f27b5b44",
   "metadata": {},
   "outputs": [],
   "source": [
    "def quadratic():\n",
    "    import cmath\n",
    "    print(\"Enter the co-efficients of x(square), x and constant\")\n",
    "    a=int(input())\n",
    "    b=int(input())\n",
    "    c=int(input())\n",
    "    d=((b**2)-(4*a*c))\n",
    "    num1=((-b+cmath.sqrt(d))/2*a)\n",
    "    num2=((-b-cmath.sqrt(d))/2*a)\n",
    "    print(\"Values of x are\",num1,num2)\n",
    "    "
   ]
  },
  {
   "cell_type": "code",
   "execution_count": 68,
   "id": "61736558",
   "metadata": {},
   "outputs": [],
   "source": [
    "def swapwithouttemp():\n",
    "    a=input(\"enter value of a\")\n",
    "    b=input(\"enter value of b\")\n",
    "    a,b=b,a\n",
    "    print(\"a=\",a,\"b=\",b)"
   ]
  },
  {
   "cell_type": "code",
   "execution_count": null,
   "id": "6a8102ba",
   "metadata": {},
   "outputs": [],
   "source": []
  },
  {
   "cell_type": "code",
   "execution_count": null,
   "id": "ecb3c983",
   "metadata": {},
   "outputs": [],
   "source": []
  }
 ],
 "metadata": {
  "kernelspec": {
   "display_name": "Python 3 (ipykernel)",
   "language": "python",
   "name": "python3"
  },
  "language_info": {
   "codemirror_mode": {
    "name": "ipython",
    "version": 3
   },
   "file_extension": ".py",
   "mimetype": "text/x-python",
   "name": "python",
   "nbconvert_exporter": "python",
   "pygments_lexer": "ipython3",
   "version": "3.9.7"
  }
 },
 "nbformat": 4,
 "nbformat_minor": 5
}
