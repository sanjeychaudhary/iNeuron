{
 "cells": [
  {
   "cell_type": "code",
   "execution_count": 6,
   "id": "0992c85b",
   "metadata": {},
   "outputs": [],
   "source": [
    "def factorial():\n",
    "    fact=int(input(\"enter the number\"))\n",
    "    if fact==0:\n",
    "        factorial=0\n",
    "    else:\n",
    "        factorial=1\n",
    "        for i in range(1,fact+1):\n",
    "            factorial=factorial*i\n",
    "    return factorial    "
   ]
  },
  {
   "cell_type": "code",
   "execution_count": 8,
   "id": "df3b25f6",
   "metadata": {},
   "outputs": [],
   "source": [
    "def MultTable():\n",
    "    value=int(input(\"enter the number for which you want to see the table\"))\n",
    "    for i in range(1,11):\n",
    "        print(value,\"X\",i,\"=\",value*i)"
   ]
  },
  {
   "cell_type": "code",
   "execution_count": 25,
   "id": "1e7f1d7d",
   "metadata": {},
   "outputs": [],
   "source": [
    "def fibonacci():\n",
    "    n=int(input(\"Enter the number of till you need to see fibonacci series\"))\n",
    "    l1=[0]\n",
    "    a=0\n",
    "    b=1\n",
    "    c=0\n",
    "    if n==0:\n",
    "        l1=[0]\n",
    "    else:\n",
    "        for i in range(1,n+1):\n",
    "            c=a+b\n",
    "            a=b\n",
    "            b=c\n",
    "            l1.append(c)\n",
    "    return l1\n",
    "        "
   ]
  },
  {
   "cell_type": "code",
   "execution_count": 43,
   "id": "f6bcba07",
   "metadata": {},
   "outputs": [],
   "source": [
    "def armstrongcheck():\n",
    "    arm=int(input(\"enter the number you want to verify\"))\n",
    "    char=str(arm)\n",
    "    sum=0\n",
    "    power=len(char)\n",
    "    for i in range(power):\n",
    "        sum=int(char[i])**power+sum\n",
    "    if sum==arm:\n",
    "        print(\"Entered number is a Armstrong number\")\n",
    "    else:\n",
    "        print(\"entered number is not a Armstrong number\")\n",
    "    "
   ]
  },
  {
   "cell_type": "code",
   "execution_count": 14,
   "id": "79c9a584",
   "metadata": {},
   "outputs": [],
   "source": [
    "def findArmstrong():\n",
    "    n=int(input(\"enter the number till which you want Armstrong number\"))\n",
    "    l1=[]\n",
    "    for i in range(1,n):\n",
    "        sum=0\n",
    "        char=str(i)\n",
    "        power=len(char)\n",
    "        for k in range(power):\n",
    "           sum=int(char[k])**power+sum\n",
    "        if sum==i:\n",
    "           l1.append(i)\n",
    "    return l1"
   ]
  },
  {
   "cell_type": "code",
   "execution_count": 15,
   "id": "89616013",
   "metadata": {},
   "outputs": [],
   "source": [
    "def sumNaturalnum():\n",
    "    sum=0\n",
    "    num=int(input(\"enter the number\"))\n",
    "    for i in range(1,num+1):\n",
    "        sum=i+sum\n",
    "    return sum"
   ]
  },
  {
   "cell_type": "code",
   "execution_count": null,
   "id": "d3ef17ca",
   "metadata": {},
   "outputs": [],
   "source": []
  },
  {
   "cell_type": "code",
   "execution_count": 58,
   "id": "00036e35",
   "metadata": {},
   "outputs": [
    {
     "data": {
      "text/plain": [
       "15"
      ]
     },
     "execution_count": 58,
     "metadata": {},
     "output_type": "execute_result"
    }
   ],
   "source": []
  },
  {
   "cell_type": "code",
   "execution_count": 59,
   "id": "71cceca1",
   "metadata": {},
   "outputs": [],
   "source": []
  },
  {
   "cell_type": "code",
   "execution_count": 60,
   "id": "2caf2a74",
   "metadata": {},
   "outputs": [
    {
     "data": {
      "text/plain": [
       "1"
      ]
     },
     "execution_count": 60,
     "metadata": {},
     "output_type": "execute_result"
    }
   ],
   "source": []
  },
  {
   "cell_type": "code",
   "execution_count": null,
   "id": "1c7c5d17",
   "metadata": {},
   "outputs": [],
   "source": []
  }
 ],
 "metadata": {
  "kernelspec": {
   "display_name": "Python 3 (ipykernel)",
   "language": "python",
   "name": "python3"
  },
  "language_info": {
   "codemirror_mode": {
    "name": "ipython",
    "version": 3
   },
   "file_extension": ".py",
   "mimetype": "text/x-python",
   "name": "python",
   "nbconvert_exporter": "python",
   "pygments_lexer": "ipython3",
   "version": "3.9.7"
  }
 },
 "nbformat": 4,
 "nbformat_minor": 5
}
