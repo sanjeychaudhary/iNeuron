{
 "cells": [
  {
   "cell_type": "code",
   "execution_count": null,
   "id": "dc6e3e2c",
   "metadata": {},
   "outputs": [],
   "source": [
    "Answer1:\n",
    "    d={}"
   ]
  },
  {
   "cell_type": "code",
   "execution_count": null,
   "id": "e7cb3eb6",
   "metadata": {},
   "outputs": [],
   "source": [
    "Answer2:\n",
    "    d={\"foo\":42}"
   ]
  },
  {
   "cell_type": "code",
   "execution_count": null,
   "id": "c4fd83b9",
   "metadata": {},
   "outputs": [],
   "source": [
    "Answer3:\n",
    "    Dictionary is a combination of key and associated values whereas list is a ordered collection of values like \n",
    "    strings,floats,integers,etc."
   ]
  },
  {
   "cell_type": "code",
   "execution_count": null,
   "id": "99fed1bf",
   "metadata": {},
   "outputs": [],
   "source": [
    "Answer4:\n",
    "    We get key error."
   ]
  },
  {
   "cell_type": "code",
   "execution_count": null,
   "id": "e32e3235",
   "metadata": {},
   "outputs": [],
   "source": [
    "Answer5:\n",
    "    spam can be a list in which dictionary is nested. so cat can be a value inside a list and can also be a key in that \n",
    "    dictionary inside a list.\n",
    "    for example:\n",
    "    list1=[1,\"cat\",{\"cat\":111}]\n",
    "    list1[1]\n",
    "    list[2].keys()"
   ]
  },
  {
   "cell_type": "code",
   "execution_count": null,
   "id": "af9bb758",
   "metadata": {},
   "outputs": [],
   "source": [
    "Answer6:\n",
    "    spam can be a list in which dictionary is nested. so cat can be a value inside a list and can also be a value of a key\n",
    "    in that dictionary inside a list.\n",
    "    for example:\n",
    "    list1=[1,\"cat\",{\"key1\":\"cat\"}]\n",
    "    list1[1]\n",
    "    list[2].values()"
   ]
  },
  {
   "cell_type": "code",
   "execution_count": null,
   "id": "7776fe72",
   "metadata": {},
   "outputs": [],
   "source": [
    "Answer8:\n",
    "    import pprint\n",
    "    pprint.pprint(dct)"
   ]
  },
  {
   "cell_type": "code",
   "execution_count": null,
   "id": "5833aa39",
   "metadata": {},
   "outputs": [],
   "source": []
  },
  {
   "cell_type": "code",
   "execution_count": null,
   "id": "e9681cfd",
   "metadata": {},
   "outputs": [],
   "source": []
  },
  {
   "cell_type": "code",
   "execution_count": null,
   "id": "86d247da",
   "metadata": {},
   "outputs": [],
   "source": []
  },
  {
   "cell_type": "code",
   "execution_count": null,
   "id": "9284189f",
   "metadata": {},
   "outputs": [],
   "source": []
  },
  {
   "cell_type": "code",
   "execution_count": null,
   "id": "14fe4cda",
   "metadata": {},
   "outputs": [],
   "source": []
  }
 ],
 "metadata": {
  "kernelspec": {
   "display_name": "Python 3 (ipykernel)",
   "language": "python",
   "name": "python3"
  },
  "language_info": {
   "codemirror_mode": {
    "name": "ipython",
    "version": 3
   },
   "file_extension": ".py",
   "mimetype": "text/x-python",
   "name": "python",
   "nbconvert_exporter": "python",
   "pygments_lexer": "ipython3",
   "version": "3.9.7"
  }
 },
 "nbformat": 4,
 "nbformat_minor": 5
}
