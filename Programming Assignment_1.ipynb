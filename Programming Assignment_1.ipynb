{
 "cells": [
  {
   "cell_type": "code",
   "execution_count": null,
   "id": "0752cfef",
   "metadata": {},
   "outputs": [],
   "source": [
    "print(\"Hello\")"
   ]
  },
  {
   "cell_type": "code",
   "execution_count": 2,
   "id": "4ce937c3",
   "metadata": {},
   "outputs": [],
   "source": [
    "def operation(a,b):\n",
    "    sum=a+b\n",
    "    div=a/b\n",
    "    return sum,div\n",
    "        "
   ]
  },
  {
   "cell_type": "code",
   "execution_count": 6,
   "id": "ace3419e",
   "metadata": {},
   "outputs": [],
   "source": [
    "def areaoftriangle():\n",
    "    print(\"enter the height\")\n",
    "    a=int(input())\n",
    "    print(\"enter the base\")\n",
    "    b=int(input())\n",
    "    area=(a*b)/2\n",
    "    print(\"Area of triangle is\",area)"
   ]
  },
  {
   "cell_type": "code",
   "execution_count": 8,
   "id": "192f8295",
   "metadata": {},
   "outputs": [],
   "source": [
    "def swapnumbers():\n",
    "    print(\"enter the two values\")\n",
    "    a=input()\n",
    "    b=input()\n",
    "    c=a\n",
    "    a=b\n",
    "    b=c\n",
    "    print(a,b)"
   ]
  },
  {
   "cell_type": "code",
   "execution_count": null,
   "id": "9196a88c",
   "metadata": {},
   "outputs": [],
   "source": [
    "import random\n",
    "print(random.randint(0,9))"
   ]
  },
  {
   "cell_type": "code",
   "execution_count": null,
   "id": "14e9b1bd",
   "metadata": {},
   "outputs": [],
   "source": []
  }
 ],
 "metadata": {
  "kernelspec": {
   "display_name": "Python 3 (ipykernel)",
   "language": "python",
   "name": "python3"
  },
  "language_info": {
   "codemirror_mode": {
    "name": "ipython",
    "version": 3
   },
   "file_extension": ".py",
   "mimetype": "text/x-python",
   "name": "python",
   "nbconvert_exporter": "python",
   "pygments_lexer": "ipython3",
   "version": "3.9.7"
  }
 },
 "nbformat": 4,
 "nbformat_minor": 5
}
