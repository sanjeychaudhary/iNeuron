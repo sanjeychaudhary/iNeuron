{
 "cells": [
  {
   "cell_type": "code",
   "execution_count": 8,
   "id": "4712266b",
   "metadata": {},
   "outputs": [],
   "source": [
    "def numbercheck():\n",
    "    a=int(input(\"enter the number\"))\n",
    "    if a>0:\n",
    "        print(\"Number is positive\")\n",
    "    elif a<0:\n",
    "        print(\"Number is negative\")\n",
    "    else:\n",
    "        print(\"Number is zero\")\n",
    "    \n",
    "    \n",
    "    "
   ]
  },
  {
   "cell_type": "code",
   "execution_count": 10,
   "id": "1af45c24",
   "metadata": {},
   "outputs": [],
   "source": [
    "def oddevencheck():\n",
    "    a=int(input(\"enter a number\"))\n",
    "    if a%2==0:\n",
    "        print(\"Number is even\")\n",
    "    else:\n",
    "        print(\"Number is odd\")"
   ]
  },
  {
   "cell_type": "code",
   "execution_count": 36,
   "id": "9a044dd4",
   "metadata": {},
   "outputs": [],
   "source": [
    "def leapyearcheck():\n",
    "    year=int(input(\"enter the year\"))\n",
    "    if year%4==0:\n",
    "        if year%100==0:\n",
    "            if year%400==0:\n",
    "                print(\"You have entered a leap year\")\n",
    "        else:\n",
    "            print(\"You have entered a leap year\")\n",
    "    else:\n",
    "        print(\"Not a leap year\")"
   ]
  },
  {
   "cell_type": "code",
   "execution_count": 6,
   "id": "16f7c5bf",
   "metadata": {},
   "outputs": [],
   "source": [
    "def primecheck():\n",
    "    a=int(input(\"enter a number\"))\n",
    "    flag=1\n",
    "    if a==1:\n",
    "        print(a,\"is a prime number\")\n",
    "    else:\n",
    "        i=2\n",
    "        while i<=(a/2):\n",
    "            if a%i==0:\n",
    "                  flag=0\n",
    "                  break\n",
    "            else:\n",
    "                  i=i+1\n",
    "    if flag==1:\n",
    "        print(\"Prime number is entered\")\n",
    "    else:\n",
    "        print(\"Not a prime number\")"
   ]
  },
  {
   "cell_type": "code",
   "execution_count": 12,
   "id": "ce86f76e",
   "metadata": {},
   "outputs": [],
   "source": [
    "def primeprint():\n",
    "    l1=[]\n",
    "    for i in range(10000):\n",
    "        for k in range(2,i):\n",
    "            if i%k==0:\n",
    "                break\n",
    "        else:\n",
    "            l1.append(i)\n",
    "    return l1\n",
    "    "
   ]
  },
  {
   "cell_type": "code",
   "execution_count": null,
   "id": "0c087a82",
   "metadata": {},
   "outputs": [],
   "source": []
  },
  {
   "cell_type": "code",
   "execution_count": null,
   "id": "a9133fb5",
   "metadata": {},
   "outputs": [],
   "source": []
  },
  {
   "cell_type": "code",
   "execution_count": null,
   "id": "b17f1b52",
   "metadata": {},
   "outputs": [],
   "source": []
  }
 ],
 "metadata": {
  "kernelspec": {
   "display_name": "Python 3 (ipykernel)",
   "language": "python",
   "name": "python3"
  },
  "language_info": {
   "codemirror_mode": {
    "name": "ipython",
    "version": 3
   },
   "file_extension": ".py",
   "mimetype": "text/x-python",
   "name": "python",
   "nbconvert_exporter": "python",
   "pygments_lexer": "ipython3",
   "version": "3.9.7"
  }
 },
 "nbformat": 4,
 "nbformat_minor": 5
}
