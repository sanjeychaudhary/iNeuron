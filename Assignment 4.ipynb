{
 "cells": [
  {
   "cell_type": "code",
   "execution_count": null,
   "id": "8ccd33a0",
   "metadata": {},
   "outputs": [],
   "source": [
    "Answer1:\n",
    "    [] is a square bracket which is used to denote a list. It is also used to perform indexing operation."
   ]
  },
  {
   "cell_type": "code",
   "execution_count": null,
   "id": "c215da4a",
   "metadata": {},
   "outputs": [],
   "source": [
    "Answer2:\n",
    "    spam[2]=\"hello\""
   ]
  },
  {
   "cell_type": "code",
   "execution_count": null,
   "id": "4de103a9",
   "metadata": {},
   "outputs": [],
   "source": [
    "Answer3:\n",
    "    d"
   ]
  },
  {
   "cell_type": "code",
   "execution_count": null,
   "id": "c29d3ef8",
   "metadata": {},
   "outputs": [],
   "source": [
    "Answer4:\n",
    "    d"
   ]
  },
  {
   "cell_type": "code",
   "execution_count": null,
   "id": "18bca68f",
   "metadata": {},
   "outputs": [],
   "source": [
    "Answer5:\n",
    "    [a,b]"
   ]
  },
  {
   "cell_type": "code",
   "execution_count": null,
   "id": "78e8f868",
   "metadata": {},
   "outputs": [],
   "source": [
    "Answer6:\n",
    "    1"
   ]
  },
  {
   "cell_type": "code",
   "execution_count": null,
   "id": "27e956a9",
   "metadata": {},
   "outputs": [],
   "source": [
    "Answer7:\n",
    "    [3.14, 'cat', 11,'cat',True,99]"
   ]
  },
  {
   "cell_type": "code",
   "execution_count": null,
   "id": "53a27d7d",
   "metadata": {},
   "outputs": [],
   "source": [
    "Answer8:\n",
    "    [3.14, 11,'cat',True,99]"
   ]
  },
  {
   "cell_type": "code",
   "execution_count": null,
   "id": "c00e8881",
   "metadata": {},
   "outputs": [],
   "source": [
    "Answer9:\n",
    "    + is used for concatenation\n",
    "    * is used for replication"
   ]
  },
  {
   "cell_type": "code",
   "execution_count": null,
   "id": "a28039ed",
   "metadata": {},
   "outputs": [],
   "source": [
    "Answer10:\n",
    "    Append adds the data at the end of the list.\n",
    "    Whereas insert function takes two arguments first is the index value and second argument is the value that needs to be \n",
    "    added in that list at that specific index."
   ]
  },
  {
   "cell_type": "code",
   "execution_count": null,
   "id": "f35f4959",
   "metadata": {},
   "outputs": [],
   "source": [
    "Answer11:\n",
    "    pop and remove"
   ]
  },
  {
   "cell_type": "code",
   "execution_count": null,
   "id": "06a5f609",
   "metadata": {},
   "outputs": [],
   "source": [
    "Answer12:\n",
    "    Individual element values can be retrieved through index value."
   ]
  },
  {
   "cell_type": "code",
   "execution_count": null,
   "id": "d400d3e5",
   "metadata": {},
   "outputs": [],
   "source": [
    "Answer13:\n",
    "    Tuples are non-mutable dataset whereas list are mutable."
   ]
  },
  {
   "cell_type": "code",
   "execution_count": null,
   "id": "b58900b8",
   "metadata": {},
   "outputs": [],
   "source": [
    "Answer14:\n",
    "    We can type a list to a tuple but converting a integer to tuple is not possible."
   ]
  },
  {
   "cell_type": "code",
   "execution_count": null,
   "id": "7678c204",
   "metadata": {},
   "outputs": [],
   "source": [
    "Answer15:\n",
    "    To change list into tuple\n",
    "    tuple(list_name)\n",
    "    To change tuple into list\n",
    "    list(tuple_name)"
   ]
  },
  {
   "cell_type": "code",
   "execution_count": null,
   "id": "837b8e1c",
   "metadata": {},
   "outputs": [],
   "source": [
    "Answer16:\n",
    "    Variables that contains lists as values can be a dictionary or a tuple or a list itself."
   ]
  },
  {
   "cell_type": "code",
   "execution_count": null,
   "id": "42637c7d",
   "metadata": {},
   "outputs": [],
   "source": [
    "Answer17:\n",
    "    By using Docs string we can distinguish the functionality of the two programs."
   ]
  }
 ],
 "metadata": {
  "kernelspec": {
   "display_name": "Python 3 (ipykernel)",
   "language": "python",
   "name": "python3"
  },
  "language_info": {
   "codemirror_mode": {
    "name": "ipython",
    "version": 3
   },
   "file_extension": ".py",
   "mimetype": "text/x-python",
   "name": "python",
   "nbconvert_exporter": "python",
   "pygments_lexer": "ipython3",
   "version": "3.9.7"
  }
 },
 "nbformat": 4,
 "nbformat_minor": 5
}
