{
 "cells": [
  {
   "cell_type": "code",
   "execution_count": 37,
   "id": "f33ceffe",
   "metadata": {},
   "outputs": [],
   "source": [
    "def disarium():\n",
    "    numb=input(\"enter the number \")\n",
    "    k=1\n",
    "    value=0\n",
    "    for i in numb:\n",
    "        value=(int(i)**k)+value\n",
    "        k=k+1\n",
    "    if int(numb)==value:\n",
    "        print(\"Yes\")\n",
    "    else:\n",
    "        print(\"NO\")"
   ]
  },
  {
   "cell_type": "code",
   "execution_count": 41,
   "id": "0e2efe37",
   "metadata": {},
   "outputs": [],
   "source": [
    "def disarium_print():\n",
    "    number=1\n",
    "    list1=[]\n",
    "    while number<101:\n",
    "        k=1\n",
    "        value=0\n",
    "        numb=str(number)\n",
    "        for i in numb:\n",
    "            value=(int(i)**k)+value\n",
    "            k=k+1\n",
    "        if int(numb)==value:\n",
    "            list1.append(value)\n",
    "        number=number+1\n",
    "    print(list1)\n"
   ]
  },
  {
   "cell_type": "code",
   "execution_count": 68,
   "id": "e85c2bd1",
   "metadata": {},
   "outputs": [],
   "source": [
    "def find_happy():\n",
    "    numb=int(input(\"enter the number \"))\n",
    "    happy(numb)\n",
    "    \n",
    "            \n",
    "def happy(a):\n",
    "    i=0\n",
    "    k=0\n",
    "    while a>0:\n",
    "        i=a%10\n",
    "        k=k+(i**2)\n",
    "        a=a//10\n",
    "    if k>9:\n",
    "        happy(k)\n",
    "    elif k==1:\n",
    "        print(\"Happy\")\n",
    "    else:\n",
    "        print(\"unhappy\")"
   ]
  },
  {
   "cell_type": "code",
   "execution_count": 78,
   "id": "458f41e3",
   "metadata": {},
   "outputs": [],
   "source": [
    "def hundred_happy():\n",
    "    l1=[]\n",
    "    for i in range(101):\n",
    "        value=happy_hun(i)\n",
    "        l1.append(value)\n",
    "    print(l1)\n",
    "            \n",
    "def happy_hun(a):\n",
    "    i=0\n",
    "    k=0\n",
    "    while a>0:\n",
    "        i=a%10\n",
    "        k=k+(i**2)\n",
    "        a=a//10\n",
    "    if k>9:\n",
    "        happy_hun(k)\n",
    "    elif k==1:\n",
    "        return k\n",
    "    else:\n",
    "        return\n"
   ]
  },
  {
   "cell_type": "code",
   "execution_count": 87,
   "id": "104dd26e",
   "metadata": {},
   "outputs": [],
   "source": [
    "def harshad():\n",
    "    numb=input(\"enter number\")\n",
    "    value=int(numb)\n",
    "    sume=0\n",
    "    for i in numb:\n",
    "        sume=int(i)+sume\n",
    "    if value%sume==0:\n",
    "        print(\"Harshad number\")\n",
    "    else:\n",
    "        print(\"Sorry\")"
   ]
  },
  {
   "cell_type": "code",
   "execution_count": 89,
   "id": "d08ff059",
   "metadata": {},
   "outputs": [],
   "source": [
    "def pronic_numbers():\n",
    "    l1=[]\n",
    "    num=1\n",
    "    for i in range(10):\n",
    "        num=i*(i+1)\n",
    "        l1.append(num)\n",
    "    print(l1)"
   ]
  },
  {
   "cell_type": "code",
   "execution_count": null,
   "id": "6814a02e",
   "metadata": {},
   "outputs": [],
   "source": []
  },
  {
   "cell_type": "code",
   "execution_count": null,
   "id": "fd8987d5",
   "metadata": {},
   "outputs": [],
   "source": []
  },
  {
   "cell_type": "code",
   "execution_count": null,
   "id": "d5a22c41",
   "metadata": {},
   "outputs": [],
   "source": []
  }
 ],
 "metadata": {
  "kernelspec": {
   "display_name": "Python 3 (ipykernel)",
   "language": "python",
   "name": "python3"
  },
  "language_info": {
   "codemirror_mode": {
    "name": "ipython",
    "version": 3
   },
   "file_extension": ".py",
   "mimetype": "text/x-python",
   "name": "python",
   "nbconvert_exporter": "python",
   "pygments_lexer": "ipython3",
   "version": "3.9.7"
  }
 },
 "nbformat": 4,
 "nbformat_minor": 5
}
