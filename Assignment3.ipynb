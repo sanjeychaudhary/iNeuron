{
 "cells": [
  {
   "cell_type": "code",
   "execution_count": null,
   "id": "6d847ba2",
   "metadata": {},
   "outputs": [],
   "source": [
    "Answer1:\n",
    "    Functions are advantageous because it provides \n",
    "    - reusability\n",
    "    - easy debugging\n",
    "    - structured way of creating a complete program in different modules"
   ]
  },
  {
   "cell_type": "code",
   "execution_count": null,
   "id": "8e1ca3ce",
   "metadata": {},
   "outputs": [],
   "source": [
    "Answer2:\n",
    "    A function has to be called in order it to be used as part of program."
   ]
  },
  {
   "cell_type": "code",
   "execution_count": null,
   "id": "3daa02ea",
   "metadata": {},
   "outputs": [],
   "source": [
    "Answer3:\n",
    "    def statement creates a function."
   ]
  },
  {
   "cell_type": "code",
   "execution_count": null,
   "id": "067b54a7",
   "metadata": {},
   "outputs": [],
   "source": [
    "Answer4:\n",
    "    A function is simply a set of instruction written to perform a specific function inside a program. \n",
    "    Whereas function call is a procedure of invoking the specific function in a program which then allows it to get \n",
    "    executed."
   ]
  },
  {
   "cell_type": "code",
   "execution_count": null,
   "id": "3aa36ce9",
   "metadata": {},
   "outputs": [],
   "source": [
    "Answer5:\n",
    "    There is one Global scope. Local scope can be as many as functions have been created inside the main program."
   ]
  },
  {
   "cell_type": "code",
   "execution_count": null,
   "id": "a3b8cfbe",
   "metadata": {},
   "outputs": [],
   "source": [
    "Answer6:\n",
    "    Local variable remains available till only that particular function where it was defined. Once return is called, value\n",
    "    gets returned to the main program where function call was made."
   ]
  },
  {
   "cell_type": "code",
   "execution_count": null,
   "id": "9267c485",
   "metadata": {},
   "outputs": [],
   "source": [
    "Answer7:\n",
    "    Return keyword allows programmer an option of returning a value to the main program at the end of the function \n",
    "    execution after performing the required operation. Yes return can be in a form of expression."
   ]
  },
  {
   "cell_type": "code",
   "execution_count": null,
   "id": "66ed4b2d",
   "metadata": {},
   "outputs": [],
   "source": [
    "Answer8:\n",
    "    Undefined"
   ]
  },
  {
   "cell_type": "code",
   "execution_count": null,
   "id": "adaac6a3",
   "metadata": {},
   "outputs": [],
   "source": [
    "Answer9:\n",
    "    use keyword global preeceding the variable name inside a function"
   ]
  },
  {
   "cell_type": "code",
   "execution_count": null,
   "id": "8c2c15ad",
   "metadata": {},
   "outputs": [],
   "source": [
    "Answer10:\n",
    "    NoneType"
   ]
  },
  {
   "cell_type": "code",
   "execution_count": null,
   "id": "9a3934b4",
   "metadata": {},
   "outputs": [],
   "source": [
    "Answer11:\n",
    "    It will allow libraries inside areallyourpetsnamederic which can be used to perform operations defined under this \n",
    "    library."
   ]
  },
  {
   "cell_type": "code",
   "execution_count": null,
   "id": "a43d88e2",
   "metadata": {},
   "outputs": [],
   "source": [
    "Answer12:\n",
    "    import spam\n",
    "    bacon()"
   ]
  },
  {
   "cell_type": "code",
   "execution_count": null,
   "id": "c59f69e0",
   "metadata": {},
   "outputs": [],
   "source": [
    "Answer13:\n",
    "    Use try and except blocks(exceptions) to handle my run time errors."
   ]
  },
  {
   "cell_type": "code",
   "execution_count": null,
   "id": "6f62c1e4",
   "metadata": {},
   "outputs": [],
   "source": [
    "Answer14:\n",
    "    try and except block allows a programmer to handle run-time errors during the program execution and allowing it to not \n",
    "    crash the program.\n",
    "    You write the code in a try block and then using the except block you can handle run-time errors."
   ]
  }
 ],
 "metadata": {
  "kernelspec": {
   "display_name": "Python 3 (ipykernel)",
   "language": "python",
   "name": "python3"
  },
  "language_info": {
   "codemirror_mode": {
    "name": "ipython",
    "version": 3
   },
   "file_extension": ".py",
   "mimetype": "text/x-python",
   "name": "python",
   "nbconvert_exporter": "python",
   "pygments_lexer": "ipython3",
   "version": "3.9.7"
  }
 },
 "nbformat": 4,
 "nbformat_minor": 5
}
