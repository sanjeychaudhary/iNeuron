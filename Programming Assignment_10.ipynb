{
 "cells": [
  {
   "cell_type": "code",
   "execution_count": 13,
   "id": "61d86c1a",
   "metadata": {},
   "outputs": [],
   "source": [
    "def prog1():\n",
    "    l1=[]\n",
    "    sum=0\n",
    "    ran=int(input(\"enter the range\"))\n",
    "    for i in range(ran):\n",
    "        l1.append(int(input(\"enter value\")))\n",
    "    for i in range(ran):\n",
    "        sum=l1[i]+sum\n",
    "    print(sum)"
   ]
  },
  {
   "cell_type": "code",
   "execution_count": 17,
   "id": "6999d396",
   "metadata": {},
   "outputs": [],
   "source": [
    "def prog2():\n",
    "    l1=[]\n",
    "    mul=1\n",
    "    ran=int(input(\"enter the range\"))\n",
    "    for i in range(ran):\n",
    "        l1.append(int(input(\"enter value\")))\n",
    "    for i in range(ran):\n",
    "        mul=l1[i]*mul\n",
    "    print(mul)"
   ]
  },
  {
   "cell_type": "code",
   "execution_count": 23,
   "id": "bd606be8",
   "metadata": {},
   "outputs": [],
   "source": [
    "def prog3():\n",
    "    l1=[]\n",
    "    small=0\n",
    "    ran=int(input(\"enter the range\"))\n",
    "    for i in range(ran):\n",
    "        l1.append(int(input(\"enter value\")))\n",
    "    small=l1[0]\n",
    "    for i in range(ran):\n",
    "        if small>l1[i]:\n",
    "            small=l1[i]\n",
    "    print(small)"
   ]
  },
  {
   "cell_type": "code",
   "execution_count": 25,
   "id": "666ca4fe",
   "metadata": {},
   "outputs": [],
   "source": [
    "def prog4():\n",
    "    l1=[]\n",
    "    lar=0\n",
    "    ran=int(input(\"enter the range\"))\n",
    "    for i in range(ran):\n",
    "        l1.append(int(input(\"enter value\")))\n",
    "    lar=l1[0]\n",
    "    for i in range(ran):\n",
    "        if lar<l1[i]:\n",
    "            lar=l1[i]\n",
    "    print(lar)"
   ]
  },
  {
   "cell_type": "code",
   "execution_count": 37,
   "id": "f94a0741",
   "metadata": {},
   "outputs": [],
   "source": [
    "def prog5():\n",
    "    l1=[]\n",
    "    lar=0\n",
    "    slar=0\n",
    "    ran=int(input(\"enter the range\"))\n",
    "    for i in range(ran):\n",
    "        l1.append(int(input(\"enter value\")))\n",
    "    if l1[0]>l1[1]:\n",
    "        lar=l1[0]\n",
    "        slar=l1[1]\n",
    "    else:\n",
    "        slar=l1[0]\n",
    "        lar=l1[1]\n",
    "    for i in range(ran):\n",
    "        if lar<l1[i]:\n",
    "            slar=lar\n",
    "            lar=l1[i]\n",
    "        elif slar<l1[i] and lar>l1[i]:\n",
    "            slar=l1[i]\n",
    "                \n",
    "    print(lar,slar)"
   ]
  },
  {
   "cell_type": "code",
   "execution_count": 39,
   "id": "b4081eee",
   "metadata": {},
   "outputs": [],
   "source": [
    "def prog6():\n",
    "    l1=[]\n",
    "    l2=[]\n",
    "    l3=[]\n",
    "    k=0\n",
    "    ran=int(input(\"enter the range\"))\n",
    "    for i in range(ran):\n",
    "        l1.append(int(input(\"enter value\")))\n",
    "    l3=l1\n",
    "    l3.sort()\n",
    "    N=int(input(\"enter the value for N\"))\n",
    "    for i in range(N):\n",
    "        l2.append(l1[ran-1])\n",
    "        ran=ran-1\n",
    "    print(\"original listl\",l1)\n",
    "    print(\"highest numbers\",l2)"
   ]
  },
  {
   "cell_type": "code",
   "execution_count": 47,
   "id": "87754c5d",
   "metadata": {},
   "outputs": [],
   "source": [
    "def prog7():\n",
    "    l1=[]\n",
    "    l2=[]\n",
    "    ran=int(input(\"enter the range\"))\n",
    "    for i in range(ran):\n",
    "        l1.append(int(input(\"enter value\")))\n",
    "    for i in l1:\n",
    "        if i%2==0:\n",
    "            l2.append(i)\n",
    "    print(l2)"
   ]
  },
  {
   "cell_type": "code",
   "execution_count": 53,
   "id": "7c44b67b",
   "metadata": {},
   "outputs": [],
   "source": [
    "def prog8():\n",
    "    l1=[]\n",
    "    l2=[]\n",
    "    ran=int(input(\"enter the range\"))\n",
    "    for i in range(ran):\n",
    "        l1.append(int(input(\"enter value\")))\n",
    "    for i in l1:\n",
    "        if i%2==1:\n",
    "            l2.append(i)\n",
    "    print(l2)"
   ]
  },
  {
   "cell_type": "markdown",
   "id": "09a08ad8",
   "metadata": {},
   "source": [
    "prog8()"
   ]
  },
  {
   "cell_type": "code",
   "execution_count": 78,
   "id": "3885a96a",
   "metadata": {},
   "outputs": [],
   "source": [
    "def prog9():\n",
    "    myList = [1, [], 2, 3, [], 4, 5, [], [], 9]\n",
    "    print(\"The original list is : \" + str(myList))\n",
    "    result = list(filter(None, myList))\n",
    "    print (\"List after empty list removal : \" + str(result))\n",
    "    "
   ]
  },
  {
   "cell_type": "code",
   "execution_count": 81,
   "id": "702a0879",
   "metadata": {},
   "outputs": [],
   "source": [
    "def prog10():\n",
    "    my_list = ['cat', 0, 6.7]\n",
    "    new_list = my_list.copy()\n",
    "    print('Copied List:', new_list)"
   ]
  },
  {
   "cell_type": "code",
   "execution_count": 86,
   "id": "b596b706",
   "metadata": {},
   "outputs": [],
   "source": [
    "def prog11():\n",
    "    l1=[]\n",
    "    count=0\n",
    "    ran=int(input(\"enter the range\"))\n",
    "    for i in range(ran):\n",
    "        l1.append(int(input(\"enter value\")))\n",
    "    value=int(input(\"enter the number you want to find\"))\n",
    "    for i in l1:\n",
    "        if value==i:\n",
    "            count=count+1\n",
    "    print(count)\n",
    "        "
   ]
  },
  {
   "cell_type": "code",
   "execution_count": null,
   "id": "bbe5ceff",
   "metadata": {},
   "outputs": [],
   "source": []
  },
  {
   "cell_type": "code",
   "execution_count": null,
   "id": "dc783aaf",
   "metadata": {},
   "outputs": [],
   "source": []
  },
  {
   "cell_type": "code",
   "execution_count": null,
   "id": "3506e060",
   "metadata": {},
   "outputs": [],
   "source": []
  }
 ],
 "metadata": {
  "kernelspec": {
   "display_name": "Python 3 (ipykernel)",
   "language": "python",
   "name": "python3"
  },
  "language_info": {
   "codemirror_mode": {
    "name": "ipython",
    "version": 3
   },
   "file_extension": ".py",
   "mimetype": "text/x-python",
   "name": "python",
   "nbconvert_exporter": "python",
   "pygments_lexer": "ipython3",
   "version": "3.9.7"
  }
 },
 "nbformat": 4,
 "nbformat_minor": 5
}
